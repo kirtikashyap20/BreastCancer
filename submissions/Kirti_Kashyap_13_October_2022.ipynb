{
  "cells": [
    {
      "cell_type": "markdown",
      "metadata": {
        "id": "HiKZVxZTBfhc"
      },
      "source": [
        "# Breast Cancer Prediction"
      ]
    },
    {
      "cell_type": "markdown",
      "metadata": {
        "id": "ccCCUbWNBfhe"
      },
      "source": [
        "#### Importing Libraries"
      ]
    },
    {
      "cell_type": "code",
      "execution_count": 29,
      "metadata": {
        "id": "IIU4JUcQ3hyR"
      },
      "outputs": [],
      "source": [
        "import pandas as pd\n",
        "import numpy as np\n",
        "import missingno as msno\n",
        "import matplotlib.pyplot as plt\n",
        "import seaborn as sns\n",
        "color_pal = plt.rcParams['axes.prop_cycle'].by_key()['color']\n",
        "plt.style.use('ggplot')"
      ]
    },
    {
      "cell_type": "markdown",
      "metadata": {
        "id": "4JkxG-0dBfhg"
      },
      "source": [
        "#### Reading CSV file data and displaying first five values of the dataset "
      ]
    },
    {
      "cell_type": "code",
      "execution_count": 18,
      "metadata": {
        "colab": {
          "base_uri": "https://localhost:8080/",
          "height": 250
        },
        "id": "ou4kb5t93q-R",
        "outputId": "f8035fbf-ea55-41df-ab39-217fc875786b",
        "scrolled": true
      },
      "outputs": [
        {
          "output_type": "execute_result",
          "data": {
            "text/plain": [
              "        id  Clump Thickness  Uniformity of Cell Size  \\\n",
              "0  1000025                5                        1   \n",
              "1  1002945                5                        4   \n",
              "2  1015425                3                        1   \n",
              "3  1016277                6                        8   \n",
              "4  1017023                4                        1   \n",
              "\n",
              "   Uniformity of Cell Shape  Marginal Adhesion  Single Epithelial Cell Size  \\\n",
              "0                         1                  1                            2   \n",
              "1                         4                  5                            7   \n",
              "2                         1                  1                            2   \n",
              "3                         8                  1                            3   \n",
              "4                         1                  3                            2   \n",
              "\n",
              "  Bare Nuclei  Bland Chromatin  Normal Nucleoli  Mitoses  Class  \n",
              "0           1                3                1        1      2  \n",
              "1          10                3                2        1      2  \n",
              "2           2                3                1        1      2  \n",
              "3           4                3                7        1      2  \n",
              "4           1                3                1        1      2  "
            ],
            "text/html": [
              "\n",
              "  <div id=\"df-74dcaca9-1dcd-4517-bb95-9700b77ebb59\">\n",
              "    <div class=\"colab-df-container\">\n",
              "      <div>\n",
              "<style scoped>\n",
              "    .dataframe tbody tr th:only-of-type {\n",
              "        vertical-align: middle;\n",
              "    }\n",
              "\n",
              "    .dataframe tbody tr th {\n",
              "        vertical-align: top;\n",
              "    }\n",
              "\n",
              "    .dataframe thead th {\n",
              "        text-align: right;\n",
              "    }\n",
              "</style>\n",
              "<table border=\"1\" class=\"dataframe\">\n",
              "  <thead>\n",
              "    <tr style=\"text-align: right;\">\n",
              "      <th></th>\n",
              "      <th>id</th>\n",
              "      <th>Clump Thickness</th>\n",
              "      <th>Uniformity of Cell Size</th>\n",
              "      <th>Uniformity of Cell Shape</th>\n",
              "      <th>Marginal Adhesion</th>\n",
              "      <th>Single Epithelial Cell Size</th>\n",
              "      <th>Bare Nuclei</th>\n",
              "      <th>Bland Chromatin</th>\n",
              "      <th>Normal Nucleoli</th>\n",
              "      <th>Mitoses</th>\n",
              "      <th>Class</th>\n",
              "    </tr>\n",
              "  </thead>\n",
              "  <tbody>\n",
              "    <tr>\n",
              "      <th>0</th>\n",
              "      <td>1000025</td>\n",
              "      <td>5</td>\n",
              "      <td>1</td>\n",
              "      <td>1</td>\n",
              "      <td>1</td>\n",
              "      <td>2</td>\n",
              "      <td>1</td>\n",
              "      <td>3</td>\n",
              "      <td>1</td>\n",
              "      <td>1</td>\n",
              "      <td>2</td>\n",
              "    </tr>\n",
              "    <tr>\n",
              "      <th>1</th>\n",
              "      <td>1002945</td>\n",
              "      <td>5</td>\n",
              "      <td>4</td>\n",
              "      <td>4</td>\n",
              "      <td>5</td>\n",
              "      <td>7</td>\n",
              "      <td>10</td>\n",
              "      <td>3</td>\n",
              "      <td>2</td>\n",
              "      <td>1</td>\n",
              "      <td>2</td>\n",
              "    </tr>\n",
              "    <tr>\n",
              "      <th>2</th>\n",
              "      <td>1015425</td>\n",
              "      <td>3</td>\n",
              "      <td>1</td>\n",
              "      <td>1</td>\n",
              "      <td>1</td>\n",
              "      <td>2</td>\n",
              "      <td>2</td>\n",
              "      <td>3</td>\n",
              "      <td>1</td>\n",
              "      <td>1</td>\n",
              "      <td>2</td>\n",
              "    </tr>\n",
              "    <tr>\n",
              "      <th>3</th>\n",
              "      <td>1016277</td>\n",
              "      <td>6</td>\n",
              "      <td>8</td>\n",
              "      <td>8</td>\n",
              "      <td>1</td>\n",
              "      <td>3</td>\n",
              "      <td>4</td>\n",
              "      <td>3</td>\n",
              "      <td>7</td>\n",
              "      <td>1</td>\n",
              "      <td>2</td>\n",
              "    </tr>\n",
              "    <tr>\n",
              "      <th>4</th>\n",
              "      <td>1017023</td>\n",
              "      <td>4</td>\n",
              "      <td>1</td>\n",
              "      <td>1</td>\n",
              "      <td>3</td>\n",
              "      <td>2</td>\n",
              "      <td>1</td>\n",
              "      <td>3</td>\n",
              "      <td>1</td>\n",
              "      <td>1</td>\n",
              "      <td>2</td>\n",
              "    </tr>\n",
              "  </tbody>\n",
              "</table>\n",
              "</div>\n",
              "      <button class=\"colab-df-convert\" onclick=\"convertToInteractive('df-74dcaca9-1dcd-4517-bb95-9700b77ebb59')\"\n",
              "              title=\"Convert this dataframe to an interactive table.\"\n",
              "              style=\"display:none;\">\n",
              "        \n",
              "  <svg xmlns=\"http://www.w3.org/2000/svg\" height=\"24px\"viewBox=\"0 0 24 24\"\n",
              "       width=\"24px\">\n",
              "    <path d=\"M0 0h24v24H0V0z\" fill=\"none\"/>\n",
              "    <path d=\"M18.56 5.44l.94 2.06.94-2.06 2.06-.94-2.06-.94-.94-2.06-.94 2.06-2.06.94zm-11 1L8.5 8.5l.94-2.06 2.06-.94-2.06-.94L8.5 2.5l-.94 2.06-2.06.94zm10 10l.94 2.06.94-2.06 2.06-.94-2.06-.94-.94-2.06-.94 2.06-2.06.94z\"/><path d=\"M17.41 7.96l-1.37-1.37c-.4-.4-.92-.59-1.43-.59-.52 0-1.04.2-1.43.59L10.3 9.45l-7.72 7.72c-.78.78-.78 2.05 0 2.83L4 21.41c.39.39.9.59 1.41.59.51 0 1.02-.2 1.41-.59l7.78-7.78 2.81-2.81c.8-.78.8-2.07 0-2.86zM5.41 20L4 18.59l7.72-7.72 1.47 1.35L5.41 20z\"/>\n",
              "  </svg>\n",
              "      </button>\n",
              "      \n",
              "  <style>\n",
              "    .colab-df-container {\n",
              "      display:flex;\n",
              "      flex-wrap:wrap;\n",
              "      gap: 12px;\n",
              "    }\n",
              "\n",
              "    .colab-df-convert {\n",
              "      background-color: #E8F0FE;\n",
              "      border: none;\n",
              "      border-radius: 50%;\n",
              "      cursor: pointer;\n",
              "      display: none;\n",
              "      fill: #1967D2;\n",
              "      height: 32px;\n",
              "      padding: 0 0 0 0;\n",
              "      width: 32px;\n",
              "    }\n",
              "\n",
              "    .colab-df-convert:hover {\n",
              "      background-color: #E2EBFA;\n",
              "      box-shadow: 0px 1px 2px rgba(60, 64, 67, 0.3), 0px 1px 3px 1px rgba(60, 64, 67, 0.15);\n",
              "      fill: #174EA6;\n",
              "    }\n",
              "\n",
              "    [theme=dark] .colab-df-convert {\n",
              "      background-color: #3B4455;\n",
              "      fill: #D2E3FC;\n",
              "    }\n",
              "\n",
              "    [theme=dark] .colab-df-convert:hover {\n",
              "      background-color: #434B5C;\n",
              "      box-shadow: 0px 1px 3px 1px rgba(0, 0, 0, 0.15);\n",
              "      filter: drop-shadow(0px 1px 2px rgba(0, 0, 0, 0.3));\n",
              "      fill: #FFFFFF;\n",
              "    }\n",
              "  </style>\n",
              "\n",
              "      <script>\n",
              "        const buttonEl =\n",
              "          document.querySelector('#df-74dcaca9-1dcd-4517-bb95-9700b77ebb59 button.colab-df-convert');\n",
              "        buttonEl.style.display =\n",
              "          google.colab.kernel.accessAllowed ? 'block' : 'none';\n",
              "\n",
              "        async function convertToInteractive(key) {\n",
              "          const element = document.querySelector('#df-74dcaca9-1dcd-4517-bb95-9700b77ebb59');\n",
              "          const dataTable =\n",
              "            await google.colab.kernel.invokeFunction('convertToInteractive',\n",
              "                                                     [key], {});\n",
              "          if (!dataTable) return;\n",
              "\n",
              "          const docLinkHtml = 'Like what you see? Visit the ' +\n",
              "            '<a target=\"_blank\" href=https://colab.research.google.com/notebooks/data_table.ipynb>data table notebook</a>'\n",
              "            + ' to learn more about interactive tables.';\n",
              "          element.innerHTML = '';\n",
              "          dataTable['output_type'] = 'display_data';\n",
              "          await google.colab.output.renderOutput(dataTable, element);\n",
              "          const docLink = document.createElement('div');\n",
              "          docLink.innerHTML = docLinkHtml;\n",
              "          element.appendChild(docLink);\n",
              "        }\n",
              "      </script>\n",
              "    </div>\n",
              "  </div>\n",
              "  "
            ]
          },
          "metadata": {},
          "execution_count": 18
        }
      ],
      "source": [
        "df = pd.read_csv(\"breast-cancer-wisconsin.data\", names=['id', 'Clump Thickness', 'Uniformity of Cell Size', 'Uniformity of Cell Shape', 'Marginal Adhesion', 'Single Epithelial Cell Size', 'Bare Nuclei', 'Bland Chromatin', 'Normal Nucleoli', 'Mitoses', 'Class'])\n",
        "df.head()"
      ]
    },
    {
      "cell_type": "markdown",
      "metadata": {
        "id": "AbJ7pbMABfhh"
      },
      "source": [
        "#### Let's find out how many rows and columns are there in the dataset"
      ]
    },
    {
      "cell_type": "code",
      "execution_count": 6,
      "metadata": {
        "colab": {
          "base_uri": "https://localhost:8080/"
        },
        "id": "nIsDr0_u4V3n",
        "outputId": "cd25b64b-55dd-49d9-c4f6-f9d3baff9a98"
      },
      "outputs": [
        {
          "output_type": "execute_result",
          "data": {
            "text/plain": [
              "(699, 11)"
            ]
          },
          "metadata": {},
          "execution_count": 6
        }
      ],
      "source": [
        "df.shape"
      ]
    },
    {
      "cell_type": "markdown",
      "metadata": {
        "id": "9VWEgCA_Bfhh"
      },
      "source": [
        "#### Let's heck the data type of data"
      ]
    },
    {
      "cell_type": "code",
      "execution_count": 20,
      "metadata": {
        "colab": {
          "base_uri": "https://localhost:8080/"
        },
        "id": "eHBGjN9d4v4r",
        "outputId": "b0656b24-8a73-41b8-9ffe-8233d6bfd1b5"
      },
      "outputs": [
        {
          "output_type": "stream",
          "name": "stdout",
          "text": [
            "<class 'pandas.core.frame.DataFrame'>\n",
            "RangeIndex: 699 entries, 0 to 698\n",
            "Data columns (total 11 columns):\n",
            " #   Column                       Non-Null Count  Dtype \n",
            "---  ------                       --------------  ----- \n",
            " 0   id                           699 non-null    int64 \n",
            " 1   Clump Thickness              699 non-null    int64 \n",
            " 2   Uniformity of Cell Size      699 non-null    int64 \n",
            " 3   Uniformity of Cell Shape     699 non-null    int64 \n",
            " 4   Marginal Adhesion            699 non-null    int64 \n",
            " 5   Single Epithelial Cell Size  699 non-null    int64 \n",
            " 6   Bare Nuclei                  699 non-null    object\n",
            " 7   Bland Chromatin              699 non-null    int64 \n",
            " 8   Normal Nucleoli              699 non-null    int64 \n",
            " 9   Mitoses                      699 non-null    int64 \n",
            " 10  Class                        699 non-null    int64 \n",
            "dtypes: int64(10), object(1)\n",
            "memory usage: 60.2+ KB\n"
          ]
        }
      ],
      "source": [
        "df.info()"
      ]
    },
    {
      "cell_type": "markdown",
      "metadata": {
        "id": "I2SB_GuQBfhi"
      },
      "source": [
        "#### Let's look for missing values in data"
      ]
    },
    {
      "cell_type": "code",
      "execution_count": 19,
      "metadata": {
        "colab": {
          "base_uri": "https://localhost:8080/"
        },
        "id": "YCk4cWry9hUs",
        "outputId": "2ba4e2db-85d1-4e87-cc72-f4fd0432ab58"
      },
      "outputs": [
        {
          "output_type": "execute_result",
          "data": {
            "text/plain": [
              "id                             0\n",
              "Clump Thickness                0\n",
              "Uniformity of Cell Size        0\n",
              "Uniformity of Cell Shape       0\n",
              "Marginal Adhesion              0\n",
              "Single Epithelial Cell Size    0\n",
              "Bare Nuclei                    0\n",
              "Bland Chromatin                0\n",
              "Normal Nucleoli                0\n",
              "Mitoses                        0\n",
              "Class                          0\n",
              "dtype: int64"
            ]
          },
          "metadata": {},
          "execution_count": 19
        }
      ],
      "source": [
        "df.isna().sum()"
      ]
    },
    {
      "cell_type": "markdown",
      "metadata": {
        "id": "tgshDfTRBfhi"
      },
      "source": [
        "#### As Bare Nucli is having object datatype so we are checking all unique values\n",
        "\n",
        "> Indented block\n",
        "\n"
      ]
    },
    {
      "cell_type": "code",
      "execution_count": 30,
      "metadata": {
        "colab": {
          "base_uri": "https://localhost:8080/",
          "height": 285
        },
        "id": "vfXNzko48nAM",
        "outputId": "894b1d8b-39ac-4eb2-b695-83acea563187"
      },
      "outputs": [
        {
          "output_type": "execute_result",
          "data": {
            "text/plain": [
              "<matplotlib.axes._subplots.AxesSubplot at 0x7f83ff138a10>"
            ]
          },
          "metadata": {},
          "execution_count": 30
        },
        {
          "output_type": "display_data",
          "data": {
            "text/plain": [
              "<Figure size 432x288 with 1 Axes>"
            ],
            "image/png": "[encoded data removed]"
          },
          "metadata": {}
        }
      ],
      "source": [
        "df['Bare Nuclei'].value_counts().plot(kind='bar')"
      ]
    },
    {
      "cell_type": "markdown",
      "metadata": {
        "id": "hU9aWN13_lSv"
      },
      "source": [
        "#### To make data more relevant, here we are replacing  \"?\" with NaN value"
      ]
    },
    {
      "cell_type": "code",
      "execution_count": 31,
      "metadata": {
        "colab": {
          "base_uri": "https://localhost:8080/"
        },
        "id": "0JC9s2-S8r2l",
        "outputId": "c5969a2e-d0d1-45fe-bba7-94e507392b29"
      },
      "outputs": [
        {
          "output_type": "execute_result",
          "data": {
            "text/plain": [
              "array(['1', '10', '2', '4', '3', '9', '7', nan, '5', '8', '6'],\n",
              "      dtype=object)"
            ]
          },
          "metadata": {},
          "execution_count": 31
        }
      ],
      "source": [
        "df['Bare Nuclei'] = df['Bare Nuclei'].replace('?', np.NaN)\n",
        "df['Bare Nuclei'].unique()"
      ]
    },
    {
      "cell_type": "code",
      "source": [
        "df['Bare Nuclei'].value_counts().plot(kind='bar')"
      ],
      "metadata": {
        "colab": {
          "base_uri": "https://localhost:8080/",
          "height": 285
        },
        "id": "n_RsWHrtN3tO",
        "outputId": "60ee01d2-4d90-4bd3-ad05-ee9a1face88b"
      },
      "execution_count": 32,
      "outputs": [
        {
          "output_type": "execute_result",
          "data": {
            "text/plain": [
              "<matplotlib.axes._subplots.AxesSubplot at 0x7f83ff05a550>"
            ]
          },
          "metadata": {},
          "execution_count": 32
        },
        {
          "output_type": "display_data",
          "data": {
            "text/plain": [
              "<Figure size 432x288 with 1 Axes>"
            ],
            "image/png": "[encoded data removed]"
          },
          "metadata": {}
        }
      ]
    },
    {
      "cell_type": "markdown",
      "metadata": {
        "id": "Nf8r5dsrBfhj"
      },
      "source": [
        "##### checking all unique features"
      ]
    },
    {
      "cell_type": "code",
      "execution_count": 33,
      "metadata": {
        "colab": {
          "base_uri": "https://localhost:8080/"
        },
        "id": "DCVBQu30_pE4",
        "outputId": "4a37d1d2-d200-402e-e069-2950382b7c7e",
        "scrolled": true
      },
      "outputs": [
        {
          "output_type": "execute_result",
          "data": {
            "text/plain": [
              "id                             645\n",
              "Clump Thickness                 10\n",
              "Uniformity of Cell Size         10\n",
              "Uniformity of Cell Shape        10\n",
              "Marginal Adhesion               10\n",
              "Single Epithelial Cell Size     10\n",
              "Bare Nuclei                     10\n",
              "Bland Chromatin                 10\n",
              "Normal Nucleoli                 10\n",
              "Mitoses                          9\n",
              "Class                            2\n",
              "dtype: int64"
            ]
          },
          "metadata": {},
          "execution_count": 33
        }
      ],
      "source": [
        "df.nunique()"
      ]
    },
    {
      "cell_type": "markdown",
      "metadata": {
        "id": "4zTi3bBkBfhj"
      },
      "source": [
        "#### converting the object type to numeric"
      ]
    },
    {
      "cell_type": "code",
      "execution_count": 34,
      "metadata": {
        "id": "JA0PDXgI8_wm"
      },
      "outputs": [],
      "source": [
        "df[\"Bare Nuclei\"] = pd.to_numeric(df[\"Bare Nuclei\"])"
      ]
    },
    {
      "cell_type": "code",
      "execution_count": 35,
      "metadata": {
        "colab": {
          "base_uri": "https://localhost:8080/"
        },
        "id": "Z6NC80LO9kRj",
        "outputId": "16debe02-1add-41e6-b725-f3403a7760a1"
      },
      "outputs": [
        {
          "output_type": "execute_result",
          "data": {
            "text/plain": [
              "array([ 1., 10.,  2.,  4.,  3.,  9.,  7., nan,  5.,  8.,  6.])"
            ]
          },
          "metadata": {},
          "execution_count": 35
        }
      ],
      "source": [
        "#checking out the unique values in the column\n",
        "df['Bare Nuclei'].unique()"
      ]
    },
    {
      "cell_type": "code",
      "source": [
        "msno.matrix(df)"
      ],
      "metadata": {
        "colab": {
          "base_uri": "https://localhost:8080/",
          "height": 763
        },
        "id": "AYmYuktaOUgd",
        "outputId": "42bc645e-edd4-4f0a-8f8e-7660895db71f"
      },
      "execution_count": 38,
      "outputs": [
        {
          "output_type": "execute_result",
          "data": {
            "text/plain": [
              "<matplotlib.axes._subplots.AxesSubplot at 0x7f83feecfdd0>"
            ]
          },
          "metadata": {},
          "execution_count": 38
        },
        {
          "output_type": "display_data",
          "data": {
            "text/plain": [
              "<Figure size 1800x720 with 2 Axes>"
            ],
            "image/png": "[encoded data removed]"
          },
          "metadata": {}
        }
      ]
    },
    {
      "cell_type": "code",
      "source": [
        "(df['Bare Nuclei'].isna().sum()/df['Bare Nuclei'].shape[0])*100"
      ],
      "metadata": {
        "colab": {
          "base_uri": "https://localhost:8080/"
        },
        "id": "fQcZRL7SOZem",
        "outputId": "cd09033a-3f2f-4679-958b-55c4b0e34036"
      },
      "execution_count": 39,
      "outputs": [
        {
          "output_type": "execute_result",
          "data": {
            "text/plain": [
              "2.28898426323319"
            ]
          },
          "metadata": {},
          "execution_count": 39
        }
      ]
    },
    {
      "cell_type": "markdown",
      "source": [
        "Using the missingno library we determined the number of NaN values in our dataset. \n",
        "There are 2.28% of null values in the Bare Nuclei column."
      ],
      "metadata": {
        "id": "3sBnAGBDO0bY"
      }
    },
    {
      "cell_type": "code",
      "execution_count": 41,
      "metadata": {
        "colab": {
          "base_uri": "https://localhost:8080/",
          "height": 354
        },
        "id": "rkIA01H3-ukR",
        "outputId": "36d12e5b-61af-44e3-8a56-b17383d6c880"
      },
      "outputs": [
        {
          "output_type": "stream",
          "name": "stderr",
          "text": [
            "/usr/local/lib/python3.7/dist-packages/seaborn/distributions.py:2619: FutureWarning: `distplot` is a deprecated function and will be removed in a future version. Please adapt your code to use either `displot` (a figure-level function with similar flexibility) or `histplot` (an axes-level function for histograms).\n",
            "  warnings.warn(msg, FutureWarning)\n"
          ]
        },
        {
          "output_type": "execute_result",
          "data": {
            "text/plain": [
              "<matplotlib.axes._subplots.AxesSubplot at 0x7f83fd5dd8d0>"
            ]
          },
          "metadata": {},
          "execution_count": 41
        },
        {
          "output_type": "display_data",
          "data": {
            "text/plain": [
              "<Figure size 432x288 with 1 Axes>"
            ],
            "image/png": "[encoded data removed]"
          },
          "metadata": {}
        }
      ],
      "source": [
        "sns.distplot(df['Bare Nuclei'])\n",
        "#Bimodal Distribution"
      ]
    },
    {
      "cell_type": "markdown",
      "source": [
        "The majority of the values are at around 1-2 and at 9-10, this type of a distribution is known as Bimodal Distribution."
      ],
      "metadata": {
        "id": "W-wbWulMJ5_G"
      }
    },
    {
      "cell_type": "code",
      "source": [
        "df.info()"
      ],
      "metadata": {
        "colab": {
          "base_uri": "https://localhost:8080/"
        },
        "id": "-qjZv478LCYw",
        "outputId": "c7fe147c-ff71-44b1-d393-209b61ab3d1a"
      },
      "execution_count": 42,
      "outputs": [
        {
          "output_type": "stream",
          "name": "stdout",
          "text": [
            "<class 'pandas.core.frame.DataFrame'>\n",
            "RangeIndex: 699 entries, 0 to 698\n",
            "Data columns (total 11 columns):\n",
            " #   Column                       Non-Null Count  Dtype  \n",
            "---  ------                       --------------  -----  \n",
            " 0   id                           699 non-null    int64  \n",
            " 1   Clump Thickness              699 non-null    int64  \n",
            " 2   Uniformity of Cell Size      699 non-null    int64  \n",
            " 3   Uniformity of Cell Shape     699 non-null    int64  \n",
            " 4   Marginal Adhesion            699 non-null    int64  \n",
            " 5   Single Epithelial Cell Size  699 non-null    int64  \n",
            " 6   Bare Nuclei                  683 non-null    float64\n",
            " 7   Bland Chromatin              699 non-null    int64  \n",
            " 8   Normal Nucleoli              699 non-null    int64  \n",
            " 9   Mitoses                      699 non-null    int64  \n",
            " 10  Class                        699 non-null    int64  \n",
            "dtypes: float64(1), int64(10)\n",
            "memory usage: 60.2 KB\n"
          ]
        }
      ]
    },
    {
      "cell_type": "code",
      "source": [],
      "metadata": {
        "id": "AK0hCDt8QIa7"
      },
      "execution_count": null,
      "outputs": []
    },
    {
      "cell_type": "markdown",
      "metadata": {
        "id": "daeoBQbDI3tY"
      },
      "source": [
        "#### Using KNNImputer, Imputation for completing missing values will be done"
      ]
    },
    {
      "cell_type": "code",
      "execution_count": null,
      "metadata": {
        "id": "3j9OCFN-AKxw"
      },
      "outputs": [],
      "source": [
        "from sklearn.impute import KNNImputer"
      ]
    },
    {
      "cell_type": "code",
      "execution_count": null,
      "metadata": {
        "colab": {
          "base_uri": "https://localhost:8080/",
          "height": 468
        },
        "id": "eFl3tDIdAK1h",
        "outputId": "cd6af5ea-6757-472a-85bb-77bcd9172413"
      },
      "outputs": [
        {
          "data": {
            "text/html": [
              "<div>\n",
              "<style scoped>\n",
              "    .dataframe tbody tr th:only-of-type {\n",
              "        vertical-align: middle;\n",
              "    }\n",
              "\n",
              "    .dataframe tbody tr th {\n",
              "        vertical-align: top;\n",
              "    }\n",
              "\n",
              "    .dataframe thead th {\n",
              "        text-align: right;\n",
              "    }\n",
              "</style>\n",
              "<table border=\"1\" class=\"dataframe\">\n",
              "  <thead>\n",
              "    <tr style=\"text-align: right;\">\n",
              "      <th></th>\n",
              "      <th>id</th>\n",
              "      <th>Clump Thickness</th>\n",
              "      <th>Uniformity of Cell Size</th>\n",
              "      <th>Uniformity of Cell Shape</th>\n",
              "      <th>Marginal Adhesion</th>\n",
              "      <th>Single Epithelial Cell Size</th>\n",
              "      <th>Bare Nuclei</th>\n",
              "      <th>Bland Chromatin</th>\n",
              "      <th>Normal Nucleoli</th>\n",
              "      <th>Mitoses</th>\n",
              "      <th>Class</th>\n",
              "    </tr>\n",
              "  </thead>\n",
              "  <tbody>\n",
              "    <tr>\n",
              "      <th>0</th>\n",
              "      <td>1000025.0</td>\n",
              "      <td>5.0</td>\n",
              "      <td>1.0</td>\n",
              "      <td>1.0</td>\n",
              "      <td>1.0</td>\n",
              "      <td>2.0</td>\n",
              "      <td>1.0</td>\n",
              "      <td>3.0</td>\n",
              "      <td>1.0</td>\n",
              "      <td>1.0</td>\n",
              "      <td>2.0</td>\n",
              "    </tr>\n",
              "    <tr>\n",
              "      <th>1</th>\n",
              "      <td>1002945.0</td>\n",
              "      <td>5.0</td>\n",
              "      <td>4.0</td>\n",
              "      <td>4.0</td>\n",
              "      <td>5.0</td>\n",
              "      <td>7.0</td>\n",
              "      <td>10.0</td>\n",
              "      <td>3.0</td>\n",
              "      <td>2.0</td>\n",
              "      <td>1.0</td>\n",
              "      <td>2.0</td>\n",
              "    </tr>\n",
              "    <tr>\n",
              "      <th>2</th>\n",
              "      <td>1015425.0</td>\n",
              "      <td>3.0</td>\n",
              "      <td>1.0</td>\n",
              "      <td>1.0</td>\n",
              "      <td>1.0</td>\n",
              "      <td>2.0</td>\n",
              "      <td>2.0</td>\n",
              "      <td>3.0</td>\n",
              "      <td>1.0</td>\n",
              "      <td>1.0</td>\n",
              "      <td>2.0</td>\n",
              "    </tr>\n",
              "    <tr>\n",
              "      <th>3</th>\n",
              "      <td>1016277.0</td>\n",
              "      <td>6.0</td>\n",
              "      <td>8.0</td>\n",
              "      <td>8.0</td>\n",
              "      <td>1.0</td>\n",
              "      <td>3.0</td>\n",
              "      <td>4.0</td>\n",
              "      <td>3.0</td>\n",
              "      <td>7.0</td>\n",
              "      <td>1.0</td>\n",
              "      <td>2.0</td>\n",
              "    </tr>\n",
              "    <tr>\n",
              "      <th>4</th>\n",
              "      <td>1017023.0</td>\n",
              "      <td>4.0</td>\n",
              "      <td>1.0</td>\n",
              "      <td>1.0</td>\n",
              "      <td>3.0</td>\n",
              "      <td>2.0</td>\n",
              "      <td>1.0</td>\n",
              "      <td>3.0</td>\n",
              "      <td>1.0</td>\n",
              "      <td>1.0</td>\n",
              "      <td>2.0</td>\n",
              "    </tr>\n",
              "    <tr>\n",
              "      <th>...</th>\n",
              "      <td>...</td>\n",
              "      <td>...</td>\n",
              "      <td>...</td>\n",
              "      <td>...</td>\n",
              "      <td>...</td>\n",
              "      <td>...</td>\n",
              "      <td>...</td>\n",
              "      <td>...</td>\n",
              "      <td>...</td>\n",
              "      <td>...</td>\n",
              "      <td>...</td>\n",
              "    </tr>\n",
              "    <tr>\n",
              "      <th>694</th>\n",
              "      <td>776715.0</td>\n",
              "      <td>3.0</td>\n",
              "      <td>1.0</td>\n",
              "      <td>1.0</td>\n",
              "      <td>1.0</td>\n",
              "      <td>3.0</td>\n",
              "      <td>2.0</td>\n",
              "      <td>1.0</td>\n",
              "      <td>1.0</td>\n",
              "      <td>1.0</td>\n",
              "      <td>2.0</td>\n",
              "    </tr>\n",
              "    <tr>\n",
              "      <th>695</th>\n",
              "      <td>841769.0</td>\n",
              "      <td>2.0</td>\n",
              "      <td>1.0</td>\n",
              "      <td>1.0</td>\n",
              "      <td>1.0</td>\n",
              "      <td>2.0</td>\n",
              "      <td>1.0</td>\n",
              "      <td>1.0</td>\n",
              "      <td>1.0</td>\n",
              "      <td>1.0</td>\n",
              "      <td>2.0</td>\n",
              "    </tr>\n",
              "    <tr>\n",
              "      <th>696</th>\n",
              "      <td>888820.0</td>\n",
              "      <td>5.0</td>\n",
              "      <td>10.0</td>\n",
              "      <td>10.0</td>\n",
              "      <td>3.0</td>\n",
              "      <td>7.0</td>\n",
              "      <td>3.0</td>\n",
              "      <td>8.0</td>\n",
              "      <td>10.0</td>\n",
              "      <td>2.0</td>\n",
              "      <td>4.0</td>\n",
              "    </tr>\n",
              "    <tr>\n",
              "      <th>697</th>\n",
              "      <td>897471.0</td>\n",
              "      <td>4.0</td>\n",
              "      <td>8.0</td>\n",
              "      <td>6.0</td>\n",
              "      <td>4.0</td>\n",
              "      <td>3.0</td>\n",
              "      <td>4.0</td>\n",
              "      <td>10.0</td>\n",
              "      <td>6.0</td>\n",
              "      <td>1.0</td>\n",
              "      <td>4.0</td>\n",
              "    </tr>\n",
              "    <tr>\n",
              "      <th>698</th>\n",
              "      <td>897471.0</td>\n",
              "      <td>4.0</td>\n",
              "      <td>8.0</td>\n",
              "      <td>8.0</td>\n",
              "      <td>5.0</td>\n",
              "      <td>4.0</td>\n",
              "      <td>5.0</td>\n",
              "      <td>10.0</td>\n",
              "      <td>4.0</td>\n",
              "      <td>1.0</td>\n",
              "      <td>4.0</td>\n",
              "    </tr>\n",
              "  </tbody>\n",
              "</table>\n",
              "<p>699 rows × 11 columns</p>\n",
              "</div>"
            ],
            "text/plain": [
              "            id  Clump Thickness  Uniformity of Cell Size  \\\n",
              "0    1000025.0              5.0                      1.0   \n",
              "1    1002945.0              5.0                      4.0   \n",
              "2    1015425.0              3.0                      1.0   \n",
              "3    1016277.0              6.0                      8.0   \n",
              "4    1017023.0              4.0                      1.0   \n",
              "..         ...              ...                      ...   \n",
              "694   776715.0              3.0                      1.0   \n",
              "695   841769.0              2.0                      1.0   \n",
              "696   888820.0              5.0                     10.0   \n",
              "697   897471.0              4.0                      8.0   \n",
              "698   897471.0              4.0                      8.0   \n",
              "\n",
              "     Uniformity of Cell Shape  Marginal Adhesion  Single Epithelial Cell Size  \\\n",
              "0                         1.0                1.0                          2.0   \n",
              "1                         4.0                5.0                          7.0   \n",
              "2                         1.0                1.0                          2.0   \n",
              "3                         8.0                1.0                          3.0   \n",
              "4                         1.0                3.0                          2.0   \n",
              "..                        ...                ...                          ...   \n",
              "694                       1.0                1.0                          3.0   \n",
              "695                       1.0                1.0                          2.0   \n",
              "696                      10.0                3.0                          7.0   \n",
              "697                       6.0                4.0                          3.0   \n",
              "698                       8.0                5.0                          4.0   \n",
              "\n",
              "     Bare Nuclei  Bland Chromatin  Normal Nucleoli  Mitoses  Class  \n",
              "0            1.0              3.0              1.0      1.0    2.0  \n",
              "1           10.0              3.0              2.0      1.0    2.0  \n",
              "2            2.0              3.0              1.0      1.0    2.0  \n",
              "3            4.0              3.0              7.0      1.0    2.0  \n",
              "4            1.0              3.0              1.0      1.0    2.0  \n",
              "..           ...              ...              ...      ...    ...  \n",
              "694          2.0              1.0              1.0      1.0    2.0  \n",
              "695          1.0              1.0              1.0      1.0    2.0  \n",
              "696          3.0              8.0             10.0      2.0    4.0  \n",
              "697          4.0             10.0              6.0      1.0    4.0  \n",
              "698          5.0             10.0              4.0      1.0    4.0  \n",
              "\n",
              "[699 rows x 11 columns]"
            ]
          },
          "execution_count": 19,
          "metadata": {},
          "output_type": "execute_result"
        }
      ],
      "source": [
        "imputer = KNNImputer(n_neighbors=7)\n",
        "imputed_df = imputer.fit_transform(df)\n",
        "df = pd.DataFrame(imputed_df, columns=df.columns)\n",
        "df"
      ]
    },
    {
      "cell_type": "code",
      "execution_count": null,
      "metadata": {
        "colab": {
          "base_uri": "https://localhost:8080/"
        },
        "id": "HgsWQpLTAK59",
        "outputId": "3f99dd29-3a34-4c18-8f5f-636e79c4e6da"
      },
      "outputs": [
        {
          "data": {
            "text/plain": [
              "id                             0\n",
              "Clump Thickness                0\n",
              "Uniformity of Cell Size        0\n",
              "Uniformity of Cell Shape       0\n",
              "Marginal Adhesion              0\n",
              "Single Epithelial Cell Size    0\n",
              "Bare Nuclei                    0\n",
              "Bland Chromatin                0\n",
              "Normal Nucleoli                0\n",
              "Mitoses                        0\n",
              "Class                          0\n",
              "dtype: int64"
            ]
          },
          "execution_count": 20,
          "metadata": {},
          "output_type": "execute_result"
        }
      ],
      "source": [
        "df.isna().sum(axis = 0)"
      ]
    },
    {
      "cell_type": "markdown",
      "metadata": {
        "id": "fZ64Av_99zep"
      },
      "source": [
        "##### As we donot require the customer id for data computation, so here we are making customer id as index value"
      ]
    },
    {
      "cell_type": "code",
      "execution_count": null,
      "metadata": {
        "colab": {
          "base_uri": "https://localhost:8080/",
          "height": 455
        },
        "id": "rexolFuQ4yW7",
        "outputId": "75d0331c-4563-4ca8-d85a-9bd1d19d0e41"
      },
      "outputs": [
        {
          "data": {
            "text/html": [
              "<div>\n",
              "<style scoped>\n",
              "    .dataframe tbody tr th:only-of-type {\n",
              "        vertical-align: middle;\n",
              "    }\n",
              "\n",
              "    .dataframe tbody tr th {\n",
              "        vertical-align: top;\n",
              "    }\n",
              "\n",
              "    .dataframe thead th {\n",
              "        text-align: right;\n",
              "    }\n",
              "</style>\n",
              "<table border=\"1\" class=\"dataframe\">\n",
              "  <thead>\n",
              "    <tr style=\"text-align: right;\">\n",
              "      <th></th>\n",
              "      <th>Clump Thickness</th>\n",
              "      <th>Uniformity of Cell Size</th>\n",
              "      <th>Uniformity of Cell Shape</th>\n",
              "      <th>Marginal Adhesion</th>\n",
              "      <th>Single Epithelial Cell Size</th>\n",
              "      <th>Bare Nuclei</th>\n",
              "      <th>Bland Chromatin</th>\n",
              "      <th>Normal Nucleoli</th>\n",
              "      <th>Mitoses</th>\n",
              "      <th>Class</th>\n",
              "    </tr>\n",
              "    <tr>\n",
              "      <th>id</th>\n",
              "      <th></th>\n",
              "      <th></th>\n",
              "      <th></th>\n",
              "      <th></th>\n",
              "      <th></th>\n",
              "      <th></th>\n",
              "      <th></th>\n",
              "      <th></th>\n",
              "      <th></th>\n",
              "      <th></th>\n",
              "    </tr>\n",
              "  </thead>\n",
              "  <tbody>\n",
              "    <tr>\n",
              "      <th>1000025.0</th>\n",
              "      <td>5.0</td>\n",
              "      <td>1.0</td>\n",
              "      <td>1.0</td>\n",
              "      <td>1.0</td>\n",
              "      <td>2.0</td>\n",
              "      <td>1.0</td>\n",
              "      <td>3.0</td>\n",
              "      <td>1.0</td>\n",
              "      <td>1.0</td>\n",
              "      <td>2.0</td>\n",
              "    </tr>\n",
              "    <tr>\n",
              "      <th>1002945.0</th>\n",
              "      <td>5.0</td>\n",
              "      <td>4.0</td>\n",
              "      <td>4.0</td>\n",
              "      <td>5.0</td>\n",
              "      <td>7.0</td>\n",
              "      <td>10.0</td>\n",
              "      <td>3.0</td>\n",
              "      <td>2.0</td>\n",
              "      <td>1.0</td>\n",
              "      <td>2.0</td>\n",
              "    </tr>\n",
              "    <tr>\n",
              "      <th>1015425.0</th>\n",
              "      <td>3.0</td>\n",
              "      <td>1.0</td>\n",
              "      <td>1.0</td>\n",
              "      <td>1.0</td>\n",
              "      <td>2.0</td>\n",
              "      <td>2.0</td>\n",
              "      <td>3.0</td>\n",
              "      <td>1.0</td>\n",
              "      <td>1.0</td>\n",
              "      <td>2.0</td>\n",
              "    </tr>\n",
              "    <tr>\n",
              "      <th>1016277.0</th>\n",
              "      <td>6.0</td>\n",
              "      <td>8.0</td>\n",
              "      <td>8.0</td>\n",
              "      <td>1.0</td>\n",
              "      <td>3.0</td>\n",
              "      <td>4.0</td>\n",
              "      <td>3.0</td>\n",
              "      <td>7.0</td>\n",
              "      <td>1.0</td>\n",
              "      <td>2.0</td>\n",
              "    </tr>\n",
              "    <tr>\n",
              "      <th>1017023.0</th>\n",
              "      <td>4.0</td>\n",
              "      <td>1.0</td>\n",
              "      <td>1.0</td>\n",
              "      <td>3.0</td>\n",
              "      <td>2.0</td>\n",
              "      <td>1.0</td>\n",
              "      <td>3.0</td>\n",
              "      <td>1.0</td>\n",
              "      <td>1.0</td>\n",
              "      <td>2.0</td>\n",
              "    </tr>\n",
              "    <tr>\n",
              "      <th>...</th>\n",
              "      <td>...</td>\n",
              "      <td>...</td>\n",
              "      <td>...</td>\n",
              "      <td>...</td>\n",
              "      <td>...</td>\n",
              "      <td>...</td>\n",
              "      <td>...</td>\n",
              "      <td>...</td>\n",
              "      <td>...</td>\n",
              "      <td>...</td>\n",
              "    </tr>\n",
              "    <tr>\n",
              "      <th>776715.0</th>\n",
              "      <td>3.0</td>\n",
              "      <td>1.0</td>\n",
              "      <td>1.0</td>\n",
              "      <td>1.0</td>\n",
              "      <td>3.0</td>\n",
              "      <td>2.0</td>\n",
              "      <td>1.0</td>\n",
              "      <td>1.0</td>\n",
              "      <td>1.0</td>\n",
              "      <td>2.0</td>\n",
              "    </tr>\n",
              "    <tr>\n",
              "      <th>841769.0</th>\n",
              "      <td>2.0</td>\n",
              "      <td>1.0</td>\n",
              "      <td>1.0</td>\n",
              "      <td>1.0</td>\n",
              "      <td>2.0</td>\n",
              "      <td>1.0</td>\n",
              "      <td>1.0</td>\n",
              "      <td>1.0</td>\n",
              "      <td>1.0</td>\n",
              "      <td>2.0</td>\n",
              "    </tr>\n",
              "    <tr>\n",
              "      <th>888820.0</th>\n",
              "      <td>5.0</td>\n",
              "      <td>10.0</td>\n",
              "      <td>10.0</td>\n",
              "      <td>3.0</td>\n",
              "      <td>7.0</td>\n",
              "      <td>3.0</td>\n",
              "      <td>8.0</td>\n",
              "      <td>10.0</td>\n",
              "      <td>2.0</td>\n",
              "      <td>4.0</td>\n",
              "    </tr>\n",
              "    <tr>\n",
              "      <th>897471.0</th>\n",
              "      <td>4.0</td>\n",
              "      <td>8.0</td>\n",
              "      <td>6.0</td>\n",
              "      <td>4.0</td>\n",
              "      <td>3.0</td>\n",
              "      <td>4.0</td>\n",
              "      <td>10.0</td>\n",
              "      <td>6.0</td>\n",
              "      <td>1.0</td>\n",
              "      <td>4.0</td>\n",
              "    </tr>\n",
              "    <tr>\n",
              "      <th>897471.0</th>\n",
              "      <td>4.0</td>\n",
              "      <td>8.0</td>\n",
              "      <td>8.0</td>\n",
              "      <td>5.0</td>\n",
              "      <td>4.0</td>\n",
              "      <td>5.0</td>\n",
              "      <td>10.0</td>\n",
              "      <td>4.0</td>\n",
              "      <td>1.0</td>\n",
              "      <td>4.0</td>\n",
              "    </tr>\n",
              "  </tbody>\n",
              "</table>\n",
              "<p>699 rows × 10 columns</p>\n",
              "</div>"
            ],
            "text/plain": [
              "           Clump Thickness  Uniformity of Cell Size  Uniformity of Cell Shape  \\\n",
              "id                                                                              \n",
              "1000025.0              5.0                      1.0                       1.0   \n",
              "1002945.0              5.0                      4.0                       4.0   \n",
              "1015425.0              3.0                      1.0                       1.0   \n",
              "1016277.0              6.0                      8.0                       8.0   \n",
              "1017023.0              4.0                      1.0                       1.0   \n",
              "...                    ...                      ...                       ...   \n",
              "776715.0               3.0                      1.0                       1.0   \n",
              "841769.0               2.0                      1.0                       1.0   \n",
              "888820.0               5.0                     10.0                      10.0   \n",
              "897471.0               4.0                      8.0                       6.0   \n",
              "897471.0               4.0                      8.0                       8.0   \n",
              "\n",
              "           Marginal Adhesion  Single Epithelial Cell Size  Bare Nuclei  \\\n",
              "id                                                                       \n",
              "1000025.0                1.0                          2.0          1.0   \n",
              "1002945.0                5.0                          7.0         10.0   \n",
              "1015425.0                1.0                          2.0          2.0   \n",
              "1016277.0                1.0                          3.0          4.0   \n",
              "1017023.0                3.0                          2.0          1.0   \n",
              "...                      ...                          ...          ...   \n",
              "776715.0                 1.0                          3.0          2.0   \n",
              "841769.0                 1.0                          2.0          1.0   \n",
              "888820.0                 3.0                          7.0          3.0   \n",
              "897471.0                 4.0                          3.0          4.0   \n",
              "897471.0                 5.0                          4.0          5.0   \n",
              "\n",
              "           Bland Chromatin  Normal Nucleoli  Mitoses  Class  \n",
              "id                                                           \n",
              "1000025.0              3.0              1.0      1.0    2.0  \n",
              "1002945.0              3.0              2.0      1.0    2.0  \n",
              "1015425.0              3.0              1.0      1.0    2.0  \n",
              "1016277.0              3.0              7.0      1.0    2.0  \n",
              "1017023.0              3.0              1.0      1.0    2.0  \n",
              "...                    ...              ...      ...    ...  \n",
              "776715.0               1.0              1.0      1.0    2.0  \n",
              "841769.0               1.0              1.0      1.0    2.0  \n",
              "888820.0               8.0             10.0      2.0    4.0  \n",
              "897471.0              10.0              6.0      1.0    4.0  \n",
              "897471.0              10.0              4.0      1.0    4.0  \n",
              "\n",
              "[699 rows x 10 columns]"
            ]
          },
          "execution_count": 21,
          "metadata": {},
          "output_type": "execute_result"
        }
      ],
      "source": [
        "df = df.set_index(\"id\")\n",
        "df"
      ]
    },
    {
      "cell_type": "markdown",
      "metadata": {
        "id": "kdw76Wn7-C9e"
      },
      "source": [
        "##### gathering all "
      ]
    },
    {
      "cell_type": "code",
      "execution_count": null,
      "metadata": {
        "id": "f9fa3nhrBfhn",
        "outputId": "2e07e5f1-e031-4b1c-f6d3-b5d2ae4852f7"
      },
      "outputs": [
        {
          "data": {
            "text/html": [
              "<div>\n",
              "<style scoped>\n",
              "    .dataframe tbody tr th:only-of-type {\n",
              "        vertical-align: middle;\n",
              "    }\n",
              "\n",
              "    .dataframe tbody tr th {\n",
              "        vertical-align: top;\n",
              "    }\n",
              "\n",
              "    .dataframe thead th {\n",
              "        text-align: right;\n",
              "    }\n",
              "</style>\n",
              "<table border=\"1\" class=\"dataframe\">\n",
              "  <thead>\n",
              "    <tr style=\"text-align: right;\">\n",
              "      <th></th>\n",
              "      <th>Bare Nuclei</th>\n",
              "      <th>Bland Chromatin</th>\n",
              "      <th>Clump Thickness</th>\n",
              "      <th>Marginal Adhesion</th>\n",
              "      <th>Mitoses</th>\n",
              "      <th>Normal Nucleoli</th>\n",
              "      <th>Single Epithelial Cell Size</th>\n",
              "      <th>Uniformity of Cell Shape</th>\n",
              "      <th>Uniformity of Cell Size</th>\n",
              "    </tr>\n",
              "    <tr>\n",
              "      <th>id</th>\n",
              "      <th></th>\n",
              "      <th></th>\n",
              "      <th></th>\n",
              "      <th></th>\n",
              "      <th></th>\n",
              "      <th></th>\n",
              "      <th></th>\n",
              "      <th></th>\n",
              "      <th></th>\n",
              "    </tr>\n",
              "  </thead>\n",
              "  <tbody>\n",
              "    <tr>\n",
              "      <th>1000025.0</th>\n",
              "      <td>1.0</td>\n",
              "      <td>3.0</td>\n",
              "      <td>5.0</td>\n",
              "      <td>1.0</td>\n",
              "      <td>1.0</td>\n",
              "      <td>1.0</td>\n",
              "      <td>2.0</td>\n",
              "      <td>1.0</td>\n",
              "      <td>1.0</td>\n",
              "    </tr>\n",
              "    <tr>\n",
              "      <th>1002945.0</th>\n",
              "      <td>10.0</td>\n",
              "      <td>3.0</td>\n",
              "      <td>5.0</td>\n",
              "      <td>5.0</td>\n",
              "      <td>1.0</td>\n",
              "      <td>2.0</td>\n",
              "      <td>7.0</td>\n",
              "      <td>4.0</td>\n",
              "      <td>4.0</td>\n",
              "    </tr>\n",
              "    <tr>\n",
              "      <th>1015425.0</th>\n",
              "      <td>2.0</td>\n",
              "      <td>3.0</td>\n",
              "      <td>3.0</td>\n",
              "      <td>1.0</td>\n",
              "      <td>1.0</td>\n",
              "      <td>1.0</td>\n",
              "      <td>2.0</td>\n",
              "      <td>1.0</td>\n",
              "      <td>1.0</td>\n",
              "    </tr>\n",
              "    <tr>\n",
              "      <th>1016277.0</th>\n",
              "      <td>4.0</td>\n",
              "      <td>3.0</td>\n",
              "      <td>6.0</td>\n",
              "      <td>1.0</td>\n",
              "      <td>1.0</td>\n",
              "      <td>7.0</td>\n",
              "      <td>3.0</td>\n",
              "      <td>8.0</td>\n",
              "      <td>8.0</td>\n",
              "    </tr>\n",
              "    <tr>\n",
              "      <th>1017023.0</th>\n",
              "      <td>1.0</td>\n",
              "      <td>3.0</td>\n",
              "      <td>4.0</td>\n",
              "      <td>3.0</td>\n",
              "      <td>1.0</td>\n",
              "      <td>1.0</td>\n",
              "      <td>2.0</td>\n",
              "      <td>1.0</td>\n",
              "      <td>1.0</td>\n",
              "    </tr>\n",
              "    <tr>\n",
              "      <th>...</th>\n",
              "      <td>...</td>\n",
              "      <td>...</td>\n",
              "      <td>...</td>\n",
              "      <td>...</td>\n",
              "      <td>...</td>\n",
              "      <td>...</td>\n",
              "      <td>...</td>\n",
              "      <td>...</td>\n",
              "      <td>...</td>\n",
              "    </tr>\n",
              "    <tr>\n",
              "      <th>776715.0</th>\n",
              "      <td>2.0</td>\n",
              "      <td>1.0</td>\n",
              "      <td>3.0</td>\n",
              "      <td>1.0</td>\n",
              "      <td>1.0</td>\n",
              "      <td>1.0</td>\n",
              "      <td>3.0</td>\n",
              "      <td>1.0</td>\n",
              "      <td>1.0</td>\n",
              "    </tr>\n",
              "    <tr>\n",
              "      <th>841769.0</th>\n",
              "      <td>1.0</td>\n",
              "      <td>1.0</td>\n",
              "      <td>2.0</td>\n",
              "      <td>1.0</td>\n",
              "      <td>1.0</td>\n",
              "      <td>1.0</td>\n",
              "      <td>2.0</td>\n",
              "      <td>1.0</td>\n",
              "      <td>1.0</td>\n",
              "    </tr>\n",
              "    <tr>\n",
              "      <th>888820.0</th>\n",
              "      <td>3.0</td>\n",
              "      <td>8.0</td>\n",
              "      <td>5.0</td>\n",
              "      <td>3.0</td>\n",
              "      <td>2.0</td>\n",
              "      <td>10.0</td>\n",
              "      <td>7.0</td>\n",
              "      <td>10.0</td>\n",
              "      <td>10.0</td>\n",
              "    </tr>\n",
              "    <tr>\n",
              "      <th>897471.0</th>\n",
              "      <td>4.0</td>\n",
              "      <td>10.0</td>\n",
              "      <td>4.0</td>\n",
              "      <td>4.0</td>\n",
              "      <td>1.0</td>\n",
              "      <td>6.0</td>\n",
              "      <td>3.0</td>\n",
              "      <td>6.0</td>\n",
              "      <td>8.0</td>\n",
              "    </tr>\n",
              "    <tr>\n",
              "      <th>897471.0</th>\n",
              "      <td>5.0</td>\n",
              "      <td>10.0</td>\n",
              "      <td>4.0</td>\n",
              "      <td>5.0</td>\n",
              "      <td>1.0</td>\n",
              "      <td>4.0</td>\n",
              "      <td>4.0</td>\n",
              "      <td>8.0</td>\n",
              "      <td>8.0</td>\n",
              "    </tr>\n",
              "  </tbody>\n",
              "</table>\n",
              "<p>699 rows × 9 columns</p>\n",
              "</div>"
            ],
            "text/plain": [
              "           Bare Nuclei  Bland Chromatin  Clump Thickness  Marginal Adhesion  \\\n",
              "id                                                                            \n",
              "1000025.0          1.0              3.0              5.0                1.0   \n",
              "1002945.0         10.0              3.0              5.0                5.0   \n",
              "1015425.0          2.0              3.0              3.0                1.0   \n",
              "1016277.0          4.0              3.0              6.0                1.0   \n",
              "1017023.0          1.0              3.0              4.0                3.0   \n",
              "...                ...              ...              ...                ...   \n",
              "776715.0           2.0              1.0              3.0                1.0   \n",
              "841769.0           1.0              1.0              2.0                1.0   \n",
              "888820.0           3.0              8.0              5.0                3.0   \n",
              "897471.0           4.0             10.0              4.0                4.0   \n",
              "897471.0           5.0             10.0              4.0                5.0   \n",
              "\n",
              "           Mitoses  Normal Nucleoli  Single Epithelial Cell Size  \\\n",
              "id                                                                 \n",
              "1000025.0      1.0              1.0                          2.0   \n",
              "1002945.0      1.0              2.0                          7.0   \n",
              "1015425.0      1.0              1.0                          2.0   \n",
              "1016277.0      1.0              7.0                          3.0   \n",
              "1017023.0      1.0              1.0                          2.0   \n",
              "...            ...              ...                          ...   \n",
              "776715.0       1.0              1.0                          3.0   \n",
              "841769.0       1.0              1.0                          2.0   \n",
              "888820.0       2.0             10.0                          7.0   \n",
              "897471.0       1.0              6.0                          3.0   \n",
              "897471.0       1.0              4.0                          4.0   \n",
              "\n",
              "           Uniformity of Cell Shape  Uniformity of Cell Size  \n",
              "id                                                            \n",
              "1000025.0                       1.0                      1.0  \n",
              "1002945.0                       4.0                      4.0  \n",
              "1015425.0                       1.0                      1.0  \n",
              "1016277.0                       8.0                      8.0  \n",
              "1017023.0                       1.0                      1.0  \n",
              "...                             ...                      ...  \n",
              "776715.0                        1.0                      1.0  \n",
              "841769.0                        1.0                      1.0  \n",
              "888820.0                       10.0                     10.0  \n",
              "897471.0                        6.0                      8.0  \n",
              "897471.0                        8.0                      8.0  \n",
              "\n",
              "[699 rows x 9 columns]"
            ]
          },
          "execution_count": 28,
          "metadata": {},
          "output_type": "execute_result"
        }
      ],
      "source": [
        "df[df.columns.difference(['Class'])]"
      ]
    },
    {
      "cell_type": "code",
      "execution_count": null,
      "metadata": {
        "id": "7haUstFR5j2X"
      },
      "outputs": [],
      "source": [
        "features = df[df.columns.difference(['Class'])]\n",
        "labels = df['Class']"
      ]
    },
    {
      "cell_type": "code",
      "execution_count": null,
      "metadata": {
        "colab": {
          "base_uri": "https://localhost:8080/",
          "height": 366
        },
        "id": "UEC1cK6b45ud",
        "outputId": "595270d9-bd06-48b7-b4e4-d62de1ec9068"
      },
      "outputs": [
        {
          "data": {
            "text/html": [
              "<style type=\"text/css\">\n",
              "#T_d5af9_row0_col0, #T_d5af9_row1_col1, #T_d5af9_row2_col2, #T_d5af9_row3_col3, #T_d5af9_row4_col4, #T_d5af9_row5_col5, #T_d5af9_row6_col6, #T_d5af9_row7_col7, #T_d5af9_row8_col8 {\n",
              "  background-color: #b40426;\n",
              "  color: #f1f1f1;\n",
              "}\n",
              "#T_d5af9_row0_col1, #T_d5af9_row6_col7 {\n",
              "  background-color: #dddcdc;\n",
              "  color: #000000;\n",
              "}\n",
              "#T_d5af9_row0_col2 {\n",
              "  background-color: #b3cdfb;\n",
              "  color: #000000;\n",
              "}\n",
              "#T_d5af9_row0_col3 {\n",
              "  background-color: #c6d6f1;\n",
              "  color: #000000;\n",
              "}\n",
              "#T_d5af9_row0_col4, #T_d5af9_row4_col0, #T_d5af9_row4_col1, #T_d5af9_row4_col2, #T_d5af9_row4_col3, #T_d5af9_row4_col5, #T_d5af9_row4_col6, #T_d5af9_row4_col7, #T_d5af9_row4_col8 {\n",
              "  background-color: #3b4cc0;\n",
              "  color: #f1f1f1;\n",
              "}\n",
              "#T_d5af9_row0_col5 {\n",
              "  background-color: #8fb1fe;\n",
              "  color: #000000;\n",
              "}\n",
              "#T_d5af9_row0_col6 {\n",
              "  background-color: #799cf8;\n",
              "  color: #f1f1f1;\n",
              "}\n",
              "#T_d5af9_row0_col7 {\n",
              "  background-color: #d6dce4;\n",
              "  color: #000000;\n",
              "}\n",
              "#T_d5af9_row0_col8, #T_d5af9_row1_col5, #T_d5af9_row6_col1 {\n",
              "  background-color: #c5d6f2;\n",
              "  color: #000000;\n",
              "}\n",
              "#T_d5af9_row1_col0 {\n",
              "  background-color: #dedcdb;\n",
              "  color: #000000;\n",
              "}\n",
              "#T_d5af9_row1_col2 {\n",
              "  background-color: #a6c4fe;\n",
              "  color: #000000;\n",
              "}\n",
              "#T_d5af9_row1_col3 {\n",
              "  background-color: #c9d7f0;\n",
              "  color: #000000;\n",
              "}\n",
              "#T_d5af9_row1_col4 {\n",
              "  background-color: #3d50c3;\n",
              "  color: #f1f1f1;\n",
              "}\n",
              "#T_d5af9_row1_col6, #T_d5af9_row6_col2 {\n",
              "  background-color: #92b4fe;\n",
              "  color: #000000;\n",
              "}\n",
              "#T_d5af9_row1_col7 {\n",
              "  background-color: #e4d9d2;\n",
              "  color: #000000;\n",
              "}\n",
              "#T_d5af9_row1_col8 {\n",
              "  background-color: #e9d5cb;\n",
              "  color: #000000;\n",
              "}\n",
              "#T_d5af9_row2_col0 {\n",
              "  background-color: #b7cff9;\n",
              "  color: #000000;\n",
              "}\n",
              "#T_d5af9_row2_col1 {\n",
              "  background-color: #a7c5fe;\n",
              "  color: #000000;\n",
              "}\n",
              "#T_d5af9_row2_col3 {\n",
              "  background-color: #5f7fe8;\n",
              "  color: #f1f1f1;\n",
              "}\n",
              "#T_d5af9_row2_col4 {\n",
              "  background-color: #4055c8;\n",
              "  color: #f1f1f1;\n",
              "}\n",
              "#T_d5af9_row2_col5 {\n",
              "  background-color: #779af7;\n",
              "  color: #f1f1f1;\n",
              "}\n",
              "#T_d5af9_row2_col6 {\n",
              "  background-color: #536edd;\n",
              "  color: #f1f1f1;\n",
              "}\n",
              "#T_d5af9_row2_col7 {\n",
              "  background-color: #bbd1f8;\n",
              "  color: #000000;\n",
              "}\n",
              "#T_d5af9_row2_col8 {\n",
              "  background-color: #aec9fc;\n",
              "  color: #000000;\n",
              "}\n",
              "#T_d5af9_row3_col0, #T_d5af9_row3_col1, #T_d5af9_row5_col1 {\n",
              "  background-color: #dadce0;\n",
              "  color: #000000;\n",
              "}\n",
              "#T_d5af9_row3_col2 {\n",
              "  background-color: #7ea1fa;\n",
              "  color: #f1f1f1;\n",
              "}\n",
              "#T_d5af9_row3_col4 {\n",
              "  background-color: #6180e9;\n",
              "  color: #f1f1f1;\n",
              "}\n",
              "#T_d5af9_row3_col5 {\n",
              "  background-color: #a1c0ff;\n",
              "  color: #000000;\n",
              "}\n",
              "#T_d5af9_row3_col6 {\n",
              "  background-color: #86a9fc;\n",
              "  color: #f1f1f1;\n",
              "}\n",
              "#T_d5af9_row3_col7 {\n",
              "  background-color: #cbd8ee;\n",
              "  color: #000000;\n",
              "}\n",
              "#T_d5af9_row3_col8, #T_d5af9_row7_col3, #T_d5af9_row8_col2 {\n",
              "  background-color: #d1dae9;\n",
              "  color: #000000;\n",
              "}\n",
              "#T_d5af9_row5_col0 {\n",
              "  background-color: #b2ccfb;\n",
              "  color: #000000;\n",
              "}\n",
              "#T_d5af9_row5_col2, #T_d5af9_row5_col6 {\n",
              "  background-color: #9abbff;\n",
              "  color: #000000;\n",
              "}\n",
              "#T_d5af9_row5_col3 {\n",
              "  background-color: #a5c3fe;\n",
              "  color: #000000;\n",
              "}\n",
              "#T_d5af9_row5_col4 {\n",
              "  background-color: #6687ed;\n",
              "  color: #f1f1f1;\n",
              "}\n",
              "#T_d5af9_row5_col7 {\n",
              "  background-color: #dcdddd;\n",
              "  color: #000000;\n",
              "}\n",
              "#T_d5af9_row5_col8 {\n",
              "  background-color: #d9dce1;\n",
              "  color: #000000;\n",
              "}\n",
              "#T_d5af9_row6_col0 {\n",
              "  background-color: #b5cdfa;\n",
              "  color: #000000;\n",
              "}\n",
              "#T_d5af9_row6_col3 {\n",
              "  background-color: #a2c1ff;\n",
              "  color: #000000;\n",
              "}\n",
              "#T_d5af9_row6_col4 {\n",
              "  background-color: #81a4fb;\n",
              "  color: #f1f1f1;\n",
              "}\n",
              "#T_d5af9_row6_col5 {\n",
              "  background-color: #afcafc;\n",
              "  color: #000000;\n",
              "}\n",
              "#T_d5af9_row6_col8 {\n",
              "  background-color: #e7d7ce;\n",
              "  color: #000000;\n",
              "}\n",
              "#T_d5af9_row7_col0 {\n",
              "  background-color: #ead4c8;\n",
              "  color: #000000;\n",
              "}\n",
              "#T_d5af9_row7_col1 {\n",
              "  background-color: #f1ccb8;\n",
              "  color: #000000;\n",
              "}\n",
              "#T_d5af9_row7_col2 {\n",
              "  background-color: #d4dbe6;\n",
              "  color: #000000;\n",
              "}\n",
              "#T_d5af9_row7_col4 {\n",
              "  background-color: #6b8df0;\n",
              "  color: #f1f1f1;\n",
              "}\n",
              "#T_d5af9_row7_col5 {\n",
              "  background-color: #dfdbd9;\n",
              "  color: #000000;\n",
              "}\n",
              "#T_d5af9_row7_col6 {\n",
              "  background-color: #d3dbe7;\n",
              "  color: #000000;\n",
              "}\n",
              "#T_d5af9_row7_col8 {\n",
              "  background-color: #e9785d;\n",
              "  color: #f1f1f1;\n",
              "}\n",
              "#T_d5af9_row8_col0, #T_d5af9_row8_col6 {\n",
              "  background-color: #e3d9d3;\n",
              "  color: #000000;\n",
              "}\n",
              "#T_d5af9_row8_col1 {\n",
              "  background-color: #f5c4ac;\n",
              "  color: #000000;\n",
              "}\n",
              "#T_d5af9_row8_col3 {\n",
              "  background-color: #dbdcde;\n",
              "  color: #000000;\n",
              "}\n",
              "#T_d5af9_row8_col4 {\n",
              "  background-color: #7699f6;\n",
              "  color: #f1f1f1;\n",
              "}\n",
              "#T_d5af9_row8_col5 {\n",
              "  background-color: #e0dbd8;\n",
              "  color: #000000;\n",
              "}\n",
              "#T_d5af9_row8_col7 {\n",
              "  background-color: #e7745b;\n",
              "  color: #f1f1f1;\n",
              "}\n",
              "</style>\n",
              "<table id=\"T_d5af9_\">\n",
              "  <thead>\n",
              "    <tr>\n",
              "      <th class=\"blank level0\" >&nbsp;</th>\n",
              "      <th class=\"col_heading level0 col0\" >Bare Nuclei</th>\n",
              "      <th class=\"col_heading level0 col1\" >Bland Chromatin</th>\n",
              "      <th class=\"col_heading level0 col2\" >Clump Thickness</th>\n",
              "      <th class=\"col_heading level0 col3\" >Marginal Adhesion</th>\n",
              "      <th class=\"col_heading level0 col4\" >Mitoses</th>\n",
              "      <th class=\"col_heading level0 col5\" >Normal Nucleoli</th>\n",
              "      <th class=\"col_heading level0 col6\" >Single Epithelial Cell Size</th>\n",
              "      <th class=\"col_heading level0 col7\" >Uniformity of Cell Shape</th>\n",
              "      <th class=\"col_heading level0 col8\" >Uniformity of Cell Size</th>\n",
              "    </tr>\n",
              "  </thead>\n",
              "  <tbody>\n",
              "    <tr>\n",
              "      <th id=\"T_d5af9_level0_row0\" class=\"row_heading level0 row0\" >Bare Nuclei</th>\n",
              "      <td id=\"T_d5af9_row0_col0\" class=\"data row0 col0\" >1.000000</td>\n",
              "      <td id=\"T_d5af9_row0_col1\" class=\"data row0 col1\" >0.672521</td>\n",
              "      <td id=\"T_d5af9_row0_col2\" class=\"data row0 col2\" >0.584993</td>\n",
              "      <td id=\"T_d5af9_row0_col3\" class=\"data row0 col3\" >0.662488</td>\n",
              "      <td id=\"T_d5af9_row0_col4\" class=\"data row0 col4\" >0.336511</td>\n",
              "      <td id=\"T_d5af9_row0_col5\" class=\"data row0 col5\" >0.574798</td>\n",
              "      <td id=\"T_d5af9_row0_col6\" class=\"data row0 col6\" >0.579754</td>\n",
              "      <td id=\"T_d5af9_row0_col7\" class=\"data row0 col7\" >0.705920</td>\n",
              "      <td id=\"T_d5af9_row0_col8\" class=\"data row0 col8\" >0.684098</td>\n",
              "    </tr>\n",
              "    <tr>\n",
              "      <th id=\"T_d5af9_level0_row1\" class=\"row_heading level0 row1\" >Bland Chromatin</th>\n",
              "      <td id=\"T_d5af9_row1_col0\" class=\"data row1 col0\" >0.672521</td>\n",
              "      <td id=\"T_d5af9_row1_col1\" class=\"data row1 col1\" >1.000000</td>\n",
              "      <td id=\"T_d5af9_row1_col2\" class=\"data row1 col2\" >0.558428</td>\n",
              "      <td id=\"T_d5af9_row1_col3\" class=\"data row1 col3\" >0.666715</td>\n",
              "      <td id=\"T_d5af9_row1_col4\" class=\"data row1 col4\" >0.344169</td>\n",
              "      <td id=\"T_d5af9_row1_col5\" class=\"data row1 col5\" >0.665878</td>\n",
              "      <td id=\"T_d5af9_row1_col6\" class=\"data row1 col6\" >0.616102</td>\n",
              "      <td id=\"T_d5af9_row1_col7\" class=\"data row1 col7\" >0.735948</td>\n",
              "      <td id=\"T_d5af9_row1_col8\" class=\"data row1 col8\" >0.755721</td>\n",
              "    </tr>\n",
              "    <tr>\n",
              "      <th id=\"T_d5af9_level0_row2\" class=\"row_heading level0 row2\" >Clump Thickness</th>\n",
              "      <td id=\"T_d5af9_row2_col0\" class=\"data row2 col0\" >0.584993</td>\n",
              "      <td id=\"T_d5af9_row2_col1\" class=\"data row2 col1\" >0.558428</td>\n",
              "      <td id=\"T_d5af9_row2_col2\" class=\"data row2 col2\" >1.000000</td>\n",
              "      <td id=\"T_d5af9_row2_col3\" class=\"data row2 col3\" >0.486356</td>\n",
              "      <td id=\"T_d5af9_row2_col4\" class=\"data row2 col4\" >0.350034</td>\n",
              "      <td id=\"T_d5af9_row2_col5\" class=\"data row2 col5\" >0.535835</td>\n",
              "      <td id=\"T_d5af9_row2_col6\" class=\"data row2 col6\" >0.521816</td>\n",
              "      <td id=\"T_d5af9_row2_col7\" class=\"data row2 col7\" >0.654589</td>\n",
              "      <td id=\"T_d5af9_row2_col8\" class=\"data row2 col8\" >0.644913</td>\n",
              "    </tr>\n",
              "    <tr>\n",
              "      <th id=\"T_d5af9_level0_row3\" class=\"row_heading level0 row3\" >Marginal Adhesion</th>\n",
              "      <td id=\"T_d5af9_row3_col0\" class=\"data row3 col0\" >0.662488</td>\n",
              "      <td id=\"T_d5af9_row3_col1\" class=\"data row3 col1\" >0.666715</td>\n",
              "      <td id=\"T_d5af9_row3_col2\" class=\"data row3 col2\" >0.486356</td>\n",
              "      <td id=\"T_d5af9_row3_col3\" class=\"data row3 col3\" >1.000000</td>\n",
              "      <td id=\"T_d5af9_row3_col4\" class=\"data row3 col4\" >0.417633</td>\n",
              "      <td id=\"T_d5af9_row3_col5\" class=\"data row3 col5\" >0.603352</td>\n",
              "      <td id=\"T_d5af9_row3_col6\" class=\"data row3 col6\" >0.599599</td>\n",
              "      <td id=\"T_d5af9_row3_col7\" class=\"data row3 col7\" >0.683079</td>\n",
              "      <td id=\"T_d5af9_row3_col8\" class=\"data row3 col8\" >0.705582</td>\n",
              "    </tr>\n",
              "    <tr>\n",
              "      <th id=\"T_d5af9_level0_row4\" class=\"row_heading level0 row4\" >Mitoses</th>\n",
              "      <td id=\"T_d5af9_row4_col0\" class=\"data row4 col0\" >0.336511</td>\n",
              "      <td id=\"T_d5af9_row4_col1\" class=\"data row4 col1\" >0.344169</td>\n",
              "      <td id=\"T_d5af9_row4_col2\" class=\"data row4 col2\" >0.350034</td>\n",
              "      <td id=\"T_d5af9_row4_col3\" class=\"data row4 col3\" >0.417633</td>\n",
              "      <td id=\"T_d5af9_row4_col4\" class=\"data row4 col4\" >1.000000</td>\n",
              "      <td id=\"T_d5af9_row4_col5\" class=\"data row4 col5\" >0.428336</td>\n",
              "      <td id=\"T_d5af9_row4_col6\" class=\"data row4 col6\" >0.479101</td>\n",
              "      <td id=\"T_d5af9_row4_col7\" class=\"data row4 col7\" >0.438911</td>\n",
              "      <td id=\"T_d5af9_row4_col8\" class=\"data row4 col8\" >0.458693</td>\n",
              "    </tr>\n",
              "    <tr>\n",
              "      <th id=\"T_d5af9_level0_row5\" class=\"row_heading level0 row5\" >Normal Nucleoli</th>\n",
              "      <td id=\"T_d5af9_row5_col0\" class=\"data row5 col0\" >0.574798</td>\n",
              "      <td id=\"T_d5af9_row5_col1\" class=\"data row5 col1\" >0.665878</td>\n",
              "      <td id=\"T_d5af9_row5_col2\" class=\"data row5 col2\" >0.535835</td>\n",
              "      <td id=\"T_d5af9_row5_col3\" class=\"data row5 col3\" >0.603352</td>\n",
              "      <td id=\"T_d5af9_row5_col4\" class=\"data row5 col4\" >0.428336</td>\n",
              "      <td id=\"T_d5af9_row5_col5\" class=\"data row5 col5\" >1.000000</td>\n",
              "      <td id=\"T_d5af9_row5_col6\" class=\"data row5 col6\" >0.628881</td>\n",
              "      <td id=\"T_d5af9_row5_col7\" class=\"data row5 col7\" >0.719446</td>\n",
              "      <td id=\"T_d5af9_row5_col8\" class=\"data row5 col8\" >0.722865</td>\n",
              "    </tr>\n",
              "    <tr>\n",
              "      <th id=\"T_d5af9_level0_row6\" class=\"row_heading level0 row6\" >Single Epithelial Cell Size</th>\n",
              "      <td id=\"T_d5af9_row6_col0\" class=\"data row6 col0\" >0.579754</td>\n",
              "      <td id=\"T_d5af9_row6_col1\" class=\"data row6 col1\" >0.616102</td>\n",
              "      <td id=\"T_d5af9_row6_col2\" class=\"data row6 col2\" >0.521816</td>\n",
              "      <td id=\"T_d5af9_row6_col3\" class=\"data row6 col3\" >0.599599</td>\n",
              "      <td id=\"T_d5af9_row6_col4\" class=\"data row6 col4\" >0.479101</td>\n",
              "      <td id=\"T_d5af9_row6_col5\" class=\"data row6 col5\" >0.628881</td>\n",
              "      <td id=\"T_d5af9_row6_col6\" class=\"data row6 col6\" >1.000000</td>\n",
              "      <td id=\"T_d5af9_row6_col7\" class=\"data row6 col7\" >0.719668</td>\n",
              "      <td id=\"T_d5af9_row6_col8\" class=\"data row6 col8\" >0.751799</td>\n",
              "    </tr>\n",
              "    <tr>\n",
              "      <th id=\"T_d5af9_level0_row7\" class=\"row_heading level0 row7\" >Uniformity of Cell Shape</th>\n",
              "      <td id=\"T_d5af9_row7_col0\" class=\"data row7 col0\" >0.705920</td>\n",
              "      <td id=\"T_d5af9_row7_col1\" class=\"data row7 col1\" >0.735948</td>\n",
              "      <td id=\"T_d5af9_row7_col2\" class=\"data row7 col2\" >0.654589</td>\n",
              "      <td id=\"T_d5af9_row7_col3\" class=\"data row7 col3\" >0.683079</td>\n",
              "      <td id=\"T_d5af9_row7_col4\" class=\"data row7 col4\" >0.438911</td>\n",
              "      <td id=\"T_d5af9_row7_col5\" class=\"data row7 col5\" >0.719446</td>\n",
              "      <td id=\"T_d5af9_row7_col6\" class=\"data row7 col6\" >0.719668</td>\n",
              "      <td id=\"T_d5af9_row7_col7\" class=\"data row7 col7\" >1.000000</td>\n",
              "      <td id=\"T_d5af9_row7_col8\" class=\"data row7 col8\" >0.906882</td>\n",
              "    </tr>\n",
              "    <tr>\n",
              "      <th id=\"T_d5af9_level0_row8\" class=\"row_heading level0 row8\" >Uniformity of Cell Size</th>\n",
              "      <td id=\"T_d5af9_row8_col0\" class=\"data row8 col0\" >0.684098</td>\n",
              "      <td id=\"T_d5af9_row8_col1\" class=\"data row8 col1\" >0.755721</td>\n",
              "      <td id=\"T_d5af9_row8_col2\" class=\"data row8 col2\" >0.644913</td>\n",
              "      <td id=\"T_d5af9_row8_col3\" class=\"data row8 col3\" >0.705582</td>\n",
              "      <td id=\"T_d5af9_row8_col4\" class=\"data row8 col4\" >0.458693</td>\n",
              "      <td id=\"T_d5af9_row8_col5\" class=\"data row8 col5\" >0.722865</td>\n",
              "      <td id=\"T_d5af9_row8_col6\" class=\"data row8 col6\" >0.751799</td>\n",
              "      <td id=\"T_d5af9_row8_col7\" class=\"data row8 col7\" >0.906882</td>\n",
              "      <td id=\"T_d5af9_row8_col8\" class=\"data row8 col8\" >1.000000</td>\n",
              "    </tr>\n",
              "  </tbody>\n",
              "</table>\n"
            ],
            "text/plain": [
              "<pandas.io.formats.style.Styler at 0x113adc729d0>"
            ]
          },
          "execution_count": 24,
          "metadata": {},
          "output_type": "execute_result"
        }
      ],
      "source": [
        "corr = features.corr()\n",
        "corr.style.background_gradient(cmap='coolwarm')"
      ]
    },
    {
      "cell_type": "code",
      "execution_count": null,
      "metadata": {
        "id": "Ie-KZ8cJJxtP"
      },
      "outputs": [],
      "source": []
    },
    {
      "cell_type": "code",
      "execution_count": null,
      "metadata": {
        "colab": {
          "base_uri": "https://localhost:8080/",
          "height": 527
        },
        "id": "WzOK3i7s51h1",
        "outputId": "111b4f8f-ab30-487d-9e55-656f529b16d0"
      },
      "outputs": [
        {
          "name": "stderr",
          "output_type": "stream",
          "text": [
            "C:\\Users\\kkirt\\AppData\\Local\\Temp/ipykernel_2244/742018224.py:3: DeprecationWarning: `np.bool` is a deprecated alias for the builtin `bool`. To silence this warning, use `bool` by itself. Doing this will not modify any behavior and is safe. If you specifically wanted the numpy scalar type, use `np.bool_` here.\n",
            "Deprecated in NumPy 1.20; for more details and guidance: https://numpy.org/devdocs/release/1.20.0-notes.html#deprecations\n",
            "  upper = corr_matrix.where(np.triu(np.ones(corr_matrix.shape), k=1).astype(np.bool))\n"
          ]
        },
        {
          "data": {
            "text/html": [
              "<div>\n",
              "<style scoped>\n",
              "    .dataframe tbody tr th:only-of-type {\n",
              "        vertical-align: middle;\n",
              "    }\n",
              "\n",
              "    .dataframe tbody tr th {\n",
              "        vertical-align: top;\n",
              "    }\n",
              "\n",
              "    .dataframe thead th {\n",
              "        text-align: right;\n",
              "    }\n",
              "</style>\n",
              "<table border=\"1\" class=\"dataframe\">\n",
              "  <thead>\n",
              "    <tr style=\"text-align: right;\">\n",
              "      <th></th>\n",
              "      <th>Bare Nuclei</th>\n",
              "      <th>Clump Thickness</th>\n",
              "      <th>Mitoses</th>\n",
              "      <th>Single Epithelial Cell Size</th>\n",
              "    </tr>\n",
              "    <tr>\n",
              "      <th>id</th>\n",
              "      <th></th>\n",
              "      <th></th>\n",
              "      <th></th>\n",
              "      <th></th>\n",
              "    </tr>\n",
              "  </thead>\n",
              "  <tbody>\n",
              "    <tr>\n",
              "      <th>1000025.0</th>\n",
              "      <td>1.0</td>\n",
              "      <td>5.0</td>\n",
              "      <td>1.0</td>\n",
              "      <td>2.0</td>\n",
              "    </tr>\n",
              "    <tr>\n",
              "      <th>1002945.0</th>\n",
              "      <td>10.0</td>\n",
              "      <td>5.0</td>\n",
              "      <td>1.0</td>\n",
              "      <td>7.0</td>\n",
              "    </tr>\n",
              "    <tr>\n",
              "      <th>1015425.0</th>\n",
              "      <td>2.0</td>\n",
              "      <td>3.0</td>\n",
              "      <td>1.0</td>\n",
              "      <td>2.0</td>\n",
              "    </tr>\n",
              "    <tr>\n",
              "      <th>1016277.0</th>\n",
              "      <td>4.0</td>\n",
              "      <td>6.0</td>\n",
              "      <td>1.0</td>\n",
              "      <td>3.0</td>\n",
              "    </tr>\n",
              "    <tr>\n",
              "      <th>1017023.0</th>\n",
              "      <td>1.0</td>\n",
              "      <td>4.0</td>\n",
              "      <td>1.0</td>\n",
              "      <td>2.0</td>\n",
              "    </tr>\n",
              "    <tr>\n",
              "      <th>...</th>\n",
              "      <td>...</td>\n",
              "      <td>...</td>\n",
              "      <td>...</td>\n",
              "      <td>...</td>\n",
              "    </tr>\n",
              "    <tr>\n",
              "      <th>776715.0</th>\n",
              "      <td>2.0</td>\n",
              "      <td>3.0</td>\n",
              "      <td>1.0</td>\n",
              "      <td>3.0</td>\n",
              "    </tr>\n",
              "    <tr>\n",
              "      <th>841769.0</th>\n",
              "      <td>1.0</td>\n",
              "      <td>2.0</td>\n",
              "      <td>1.0</td>\n",
              "      <td>2.0</td>\n",
              "    </tr>\n",
              "    <tr>\n",
              "      <th>888820.0</th>\n",
              "      <td>3.0</td>\n",
              "      <td>5.0</td>\n",
              "      <td>2.0</td>\n",
              "      <td>7.0</td>\n",
              "    </tr>\n",
              "    <tr>\n",
              "      <th>897471.0</th>\n",
              "      <td>4.0</td>\n",
              "      <td>4.0</td>\n",
              "      <td>1.0</td>\n",
              "      <td>3.0</td>\n",
              "    </tr>\n",
              "    <tr>\n",
              "      <th>897471.0</th>\n",
              "      <td>5.0</td>\n",
              "      <td>4.0</td>\n",
              "      <td>1.0</td>\n",
              "      <td>4.0</td>\n",
              "    </tr>\n",
              "  </tbody>\n",
              "</table>\n",
              "<p>699 rows × 4 columns</p>\n",
              "</div>"
            ],
            "text/plain": [
              "           Bare Nuclei  Clump Thickness  Mitoses  Single Epithelial Cell Size\n",
              "id                                                                           \n",
              "1000025.0          1.0              5.0      1.0                          2.0\n",
              "1002945.0         10.0              5.0      1.0                          7.0\n",
              "1015425.0          2.0              3.0      1.0                          2.0\n",
              "1016277.0          4.0              6.0      1.0                          3.0\n",
              "1017023.0          1.0              4.0      1.0                          2.0\n",
              "...                ...              ...      ...                          ...\n",
              "776715.0           2.0              3.0      1.0                          3.0\n",
              "841769.0           1.0              2.0      1.0                          2.0\n",
              "888820.0           3.0              5.0      2.0                          7.0\n",
              "897471.0           4.0              4.0      1.0                          3.0\n",
              "897471.0           5.0              4.0      1.0                          4.0\n",
              "\n",
              "[699 rows x 4 columns]"
            ]
          },
          "execution_count": 25,
          "metadata": {},
          "output_type": "execute_result"
        }
      ],
      "source": [
        "corr_matrix = corr.abs()\n",
        "\n",
        "upper = corr_matrix.where(np.triu(np.ones(corr_matrix.shape), k=1).astype(np.bool))\n",
        "to_drop = [column for column in upper.columns if any(upper[column] > 0.65)]\n",
        "features = features.drop(columns=to_drop, axis=1)\n",
        "features"
      ]
    },
    {
      "cell_type": "code",
      "execution_count": null,
      "metadata": {
        "id": "lLhne9aC77z0"
      },
      "outputs": [],
      "source": []
    },
    {
      "cell_type": "code",
      "execution_count": null,
      "metadata": {
        "colab": {
          "base_uri": "https://localhost:8080/",
          "height": 455
        },
        "id": "_6bLtKcm6da-",
        "outputId": "5f655aae-d251-45d7-b5ed-f6824d9228f9"
      },
      "outputs": [
        {
          "data": {
            "text/html": [
              "<div>\n",
              "<style scoped>\n",
              "    .dataframe tbody tr th:only-of-type {\n",
              "        vertical-align: middle;\n",
              "    }\n",
              "\n",
              "    .dataframe tbody tr th {\n",
              "        vertical-align: top;\n",
              "    }\n",
              "\n",
              "    .dataframe thead th {\n",
              "        text-align: right;\n",
              "    }\n",
              "</style>\n",
              "<table border=\"1\" class=\"dataframe\">\n",
              "  <thead>\n",
              "    <tr style=\"text-align: right;\">\n",
              "      <th></th>\n",
              "      <th>Bare Nuclei</th>\n",
              "      <th>Clump Thickness</th>\n",
              "      <th>Mitoses</th>\n",
              "      <th>Single Epithelial Cell Size</th>\n",
              "    </tr>\n",
              "    <tr>\n",
              "      <th>id</th>\n",
              "      <th></th>\n",
              "      <th></th>\n",
              "      <th></th>\n",
              "      <th></th>\n",
              "    </tr>\n",
              "  </thead>\n",
              "  <tbody>\n",
              "    <tr>\n",
              "      <th>1000025.0</th>\n",
              "      <td>0.179605</td>\n",
              "      <td>0.898027</td>\n",
              "      <td>0.179605</td>\n",
              "      <td>0.359211</td>\n",
              "    </tr>\n",
              "    <tr>\n",
              "      <th>1002945.0</th>\n",
              "      <td>0.755929</td>\n",
              "      <td>0.377964</td>\n",
              "      <td>0.075593</td>\n",
              "      <td>0.529150</td>\n",
              "    </tr>\n",
              "    <tr>\n",
              "      <th>1015425.0</th>\n",
              "      <td>0.471405</td>\n",
              "      <td>0.707107</td>\n",
              "      <td>0.235702</td>\n",
              "      <td>0.471405</td>\n",
              "    </tr>\n",
              "    <tr>\n",
              "      <th>1016277.0</th>\n",
              "      <td>0.508001</td>\n",
              "      <td>0.762001</td>\n",
              "      <td>0.127000</td>\n",
              "      <td>0.381000</td>\n",
              "    </tr>\n",
              "    <tr>\n",
              "      <th>1017023.0</th>\n",
              "      <td>0.213201</td>\n",
              "      <td>0.852803</td>\n",
              "      <td>0.213201</td>\n",
              "      <td>0.426401</td>\n",
              "    </tr>\n",
              "    <tr>\n",
              "      <th>...</th>\n",
              "      <td>...</td>\n",
              "      <td>...</td>\n",
              "      <td>...</td>\n",
              "      <td>...</td>\n",
              "    </tr>\n",
              "    <tr>\n",
              "      <th>776715.0</th>\n",
              "      <td>0.417029</td>\n",
              "      <td>0.625543</td>\n",
              "      <td>0.208514</td>\n",
              "      <td>0.625543</td>\n",
              "    </tr>\n",
              "    <tr>\n",
              "      <th>841769.0</th>\n",
              "      <td>0.316228</td>\n",
              "      <td>0.632456</td>\n",
              "      <td>0.316228</td>\n",
              "      <td>0.632456</td>\n",
              "    </tr>\n",
              "    <tr>\n",
              "      <th>888820.0</th>\n",
              "      <td>0.321634</td>\n",
              "      <td>0.536056</td>\n",
              "      <td>0.214423</td>\n",
              "      <td>0.750479</td>\n",
              "    </tr>\n",
              "    <tr>\n",
              "      <th>897471.0</th>\n",
              "      <td>0.617213</td>\n",
              "      <td>0.617213</td>\n",
              "      <td>0.154303</td>\n",
              "      <td>0.462910</td>\n",
              "    </tr>\n",
              "    <tr>\n",
              "      <th>897471.0</th>\n",
              "      <td>0.656532</td>\n",
              "      <td>0.525226</td>\n",
              "      <td>0.131306</td>\n",
              "      <td>0.525226</td>\n",
              "    </tr>\n",
              "  </tbody>\n",
              "</table>\n",
              "<p>699 rows × 4 columns</p>\n",
              "</div>"
            ],
            "text/plain": [
              "           Bare Nuclei  Clump Thickness   Mitoses  Single Epithelial Cell Size\n",
              "id                                                                            \n",
              "1000025.0     0.179605         0.898027  0.179605                     0.359211\n",
              "1002945.0     0.755929         0.377964  0.075593                     0.529150\n",
              "1015425.0     0.471405         0.707107  0.235702                     0.471405\n",
              "1016277.0     0.508001         0.762001  0.127000                     0.381000\n",
              "1017023.0     0.213201         0.852803  0.213201                     0.426401\n",
              "...                ...              ...       ...                          ...\n",
              "776715.0      0.417029         0.625543  0.208514                     0.625543\n",
              "841769.0      0.316228         0.632456  0.316228                     0.632456\n",
              "888820.0      0.321634         0.536056  0.214423                     0.750479\n",
              "897471.0      0.617213         0.617213  0.154303                     0.462910\n",
              "897471.0      0.656532         0.525226  0.131306                     0.525226\n",
              "\n",
              "[699 rows x 4 columns]"
            ]
          },
          "execution_count": 26,
          "metadata": {},
          "output_type": "execute_result"
        }
      ],
      "source": [
        "from sklearn.preprocessing import Normalizer\n",
        "\n",
        "transformer = Normalizer()\n",
        "norm_features = transformer.fit_transform(features)\n",
        "norm_features = pd.DataFrame(norm_features, columns=features.columns, index=features.index)\n",
        "norm_features"
      ]
    },
    {
      "cell_type": "code",
      "execution_count": null,
      "metadata": {
        "id": "U0JysvJy73p-"
      },
      "outputs": [],
      "source": [
        "!pip install xgboost"
      ]
    },
    {
      "cell_type": "code",
      "execution_count": null,
      "metadata": {
        "id": "QHHur7Ew-eod"
      },
      "outputs": [],
      "source": [
        "from xgboost import XGBClassifier\n",
        "from sklearn.model_selection import train_test_split\n",
        "from sklearn.metrics import accuracy_score"
      ]
    },
    {
      "cell_type": "code",
      "execution_count": null,
      "metadata": {
        "id": "1nnr67EzBuVr"
      },
      "outputs": [],
      "source": [
        "seed = 145\n",
        "test_size = 0.33\n",
        "X_train, X_test, y_train, y_test = train_test_split(features, labels, test_size=test_size, random_state=seed)"
      ]
    },
    {
      "cell_type": "code",
      "execution_count": null,
      "metadata": {
        "id": "rhT_w5TaNgOp"
      },
      "outputs": [],
      "source": [
        "Probability 0 and 1 \n",
        "\n",
        "P1 0.45 --> 2 \n",
        "P2 0.99--> 4"
      ]
    },
    {
      "cell_type": "code",
      "execution_count": null,
      "metadata": {
        "id": "as50cKyyB6pj"
      },
      "outputs": [],
      "source": [
        "model = XGBClassifier()\n",
        "model.fit(X_train, y_train)\n",
        "# make predictions for test data\n",
        "y_pred = model.predict(X_test)\n",
        "predictions = [round(value) for value in y_pred]\n",
        "accuracy = accuracy_score(y_test, predictions)\n",
        "print(\"Accuracy: %.2f%%\" % (accuracy * 100.0))"
      ]
    },
    {
      "cell_type": "code",
      "execution_count": null,
      "metadata": {
        "id": "ndXDJ6APNx6O"
      },
      "outputs": [],
      "source": [
        "f(x) = 1/ (1+ exp(-x))"
      ]
    },
    {
      "cell_type": "code",
      "execution_count": null,
      "metadata": {
        "id": "R5aOr93BB9hz"
      },
      "outputs": [],
      "source": [
        "from sklearn.linear_model import LogisticRegression\n",
        "model = LogisticRegression()\n",
        "model.fit(X_train, y_train)\n",
        "# make predictions for test data\n",
        "y_pred = model.predict(X_test)\n",
        "predictions = [round(value) for value in y_pred]\n",
        "accuracy = accuracy_score(y_test, predictions)\n",
        "print(\"Accuracy: %.2f%%\" % (accuracy * 100.0))"
      ]
    },
    {
      "cell_type": "code",
      "execution_count": null,
      "metadata": {
        "id": "ErEL1cXTB_4T"
      },
      "outputs": [],
      "source": [
        "weights = list(model.coef_[0])\n",
        "columns = list(features.columns)\n",
        "feature_weights = pd.DataFrame([columns, weights])\n",
        "feature_weights"
      ]
    },
    {
      "cell_type": "code",
      "execution_count": null,
      "metadata": {
        "id": "VBYfehSsCCuj"
      },
      "outputs": [],
      "source": []
    }
  ],
  "metadata": {
    "colab": {
      "collapsed_sections": [],
      "provenance": []
    },
    "kernelspec": {
      "display_name": "Python 3 (ipykernel)",
      "language": "python",
      "name": "python3"
    },
    "language_info": {
      "codemirror_mode": {
        "name": "ipython",
        "version": 3
      },
      "file_extension": ".py",
      "mimetype": "text/x-python",
      "name": "python",
      "nbconvert_exporter": "python",
      "pygments_lexer": "ipython3",
      "version": "3.9.7"
    }
  },
  "nbformat": 4,
  "nbformat_minor": 0
}